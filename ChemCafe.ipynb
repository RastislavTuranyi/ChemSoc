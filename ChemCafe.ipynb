{
  "nbformat": 4,
  "nbformat_minor": 0,
  "metadata": {
    "colab": {
      "provenance": []
    },
    "kernelspec": {
      "name": "python3",
      "display_name": "Python 3"
    },
    "language_info": {
      "name": "python"
    }
  },
  "cells": [
    {
      "cell_type": "code",
      "source": [
        "import numpy as np"
      ],
      "metadata": {
        "id": "TgyhJg2q4spS"
      },
      "execution_count": 1,
      "outputs": []
    },
    {
      "cell_type": "markdown",
      "source": [
        "# Symmetry\n",
        "\n",
        "In this part, we will use Python to do a part (the calculation heavy one) of the process used for determining the symmetry of molecular orbitals, molecule vibrations, and electronic transitions. You don't need to worry about the Chemistry until you come across it in Y2; for now we will only focus on the bit that requires repetitive (and thus error-prone) calculations.\n",
        "\n",
        "For that, we will need character tables, with which you are probably familiar. If not, they are tables containing all the information about the symmetry of a molecule. This is the character table for the $D_{3h}$ point group.\n",
        "\n",
        "&nbsp; | $$E$$ | $$2C_3$$ | $$3C'_2$$ | $$\\sigma_h$$ |$$2S_3$$ | $$3\\sigma_v$$ | linear + rotations | quadratic\n",
        " --- | --- | --- | --- | --- | --- | --- | --- | ---\n",
        " $$A'_1$$ | 1 | 1 | 1 | 1 | 1 | 1 |  | $x^2+y^2$, $z^2$\n",
        " $$A'_2$$ | 1 | 1 | -1 | 1 | 1 | -1 | $R_z$ | &nbsp; \n",
        " $$E'$$ | 2 | -1 | 0 | 2 | -1 | 0 | ($x$, $y$) | ($x^2-y^2$, $xy$)\n",
        " $$A''_1$$ | 1 | 1 | 1 | -1 | -1 | -1 |  | \n",
        " $$A''_2$$ | 1 | 1 | -1 | -1 | -1 | 1 | $z$ |\n",
        " $$E''$$ | 2 | -1 | 0 | -2 | 1 | 0 | ($R_x$, $R_y$) | ($xz$, $yz$)\n",
        "\n",
        "\n",
        "And this is the data from the character table in a NumPy array. Although this might seem weird, it's pretty simple! All we did was create a list that contains other lists, and turned that into a NumPy array.\n"
      ],
      "metadata": {
        "id": "rZBX8EAY4fTt"
      }
    },
    {
      "cell_type": "code",
      "execution_count": 3,
      "metadata": {
        "colab": {
          "base_uri": "https://localhost:8080/"
        },
        "id": "bxVz-z9R4aHQ",
        "outputId": "4577b599-eaa7-4cac-9db8-67006b6900f1"
      },
      "outputs": [
        {
          "output_type": "stream",
          "name": "stdout",
          "text": [
            "[1 2 3 1 2 3]\n",
            "[[ 1  1  1  1  1  1]\n",
            " [ 1  1 -1  1  1 -1]\n",
            " [ 2 -1  0  2 -1  0]\n",
            " [ 1  1  1 -1 -1 -1]\n",
            " [ 1  1 -1 -1 -1  1]\n",
            " [ 2 -1  0 -2  1  0]]\n"
          ]
        }
      ],
      "source": [
        "d3h = np.array([[1, \t+1 ,\t+1, \t+1 ,\t+1 ,\t+1],\n",
        "                [+1 ,\t+1 ,\t-1 \t,+1 \t,+1 ,\t-1],\n",
        "                [+2 ,\t-1 \t,0, \t+2 ,\t-1, \t0],\n",
        "                [1 ,\t+1, \t+1 ,\t-1 ,\t-1 ,\t-1],\n",
        "                [+1, \t+1, \t-1, \t-1, \t-1 ,\t+1],\n",
        "                [+2, \t-1 ,\t0 ,\t-2 ,\t+1 ,\t0]\n",
        "                ])\n",
        "\n",
        "# This are the numbers that appear in the header of the character table, i.e.\n",
        "# 1E, 2C3, etc. We will need these.\n",
        "d3h_operators = np.array([1, 2, 3, 1, 2, 3])\n",
        "\n",
        "print(d3h_operators)\n",
        "print(d3h)"
      ]
    },
    {
      "cell_type": "markdown",
      "source": [
        "We call this kind of NumPy array a 2D array. You can access the various parts of it by indexing and slicing, similar to what you have done with 1D arrays. Feel free to play around with it and get a feel for how it works."
      ],
      "metadata": {
        "id": "3YIleLGHP3ik"
      }
    },
    {
      "cell_type": "code",
      "source": [
        "# The first row of the character table\n",
        "print(d3h[0])\n",
        "\n",
        "# The last column of the character table\n",
        "print(d3h[:, 5])\n",
        "\n",
        "# The value corresponding to sigma h of E'\n",
        "print(d3h[2, 3])\n",
        "\n",
        "# Looping like this will loop over the rows\n",
        "for row in d3h:\n",
        "  print(row)"
      ],
      "metadata": {
        "colab": {
          "base_uri": "https://localhost:8080/"
        },
        "id": "eoV25uVmP4I1",
        "outputId": "e83960f3-e83a-4348-ceab-4aa68f6e5827"
      },
      "execution_count": 5,
      "outputs": [
        {
          "output_type": "stream",
          "name": "stdout",
          "text": [
            "[1 1 1 1 1 1]\n",
            "[ 1 -1  0 -1  1  0]\n",
            "2\n",
            "[1 1 1 1 1 1]\n",
            "[ 1  1 -1  1  1 -1]\n",
            "[ 2 -1  0  2 -1  0]\n",
            "[ 1  1  1 -1 -1 -1]\n",
            "[ 1  1 -1 -1 -1  1]\n",
            "[ 2 -1  0 -2  1  0]\n"
          ]
        }
      ]
    },
    {
      "cell_type": "markdown",
      "source": [
        "## Bonding\n",
        "\n",
        "Now, imagine we would like to find out which atomic orbitals can participate in $\\pi$-bonding in boron trichloride ($BCl_3$), which has the $D_{3h}$ point group. First, we would construct something called a basis set and then apply the symmetry operation on that to get something called a reducible representation. If you know how to do this, go ahead and go over the process! Otherwise, the reducible representation that would be obtained is as follows:\n",
        "\n",
        "$$D_{3h}$$ |  $$E$$ | $$2C_3$$ | $$3C'_2$$ | $$\\sigma_h$$ |$$2S_3$$ | $$3\\sigma_v$$\n",
        " --- | --- | --- | --- | --- | --- | --- \n",
        " $$\\Gamma$$ | 3 | 0 | -1 | -3 | 0 | 1\n"
      ],
      "metadata": {
        "id": "5cOyTZegNfMs"
      }
    },
    {
      "cell_type": "code",
      "source": [
        "reducible_repr = np.array([3, 0, -1, -3, 0, 1])"
      ],
      "metadata": {
        "id": "aAsaqUwIUxhs"
      },
      "execution_count": 6,
      "outputs": []
    },
    {
      "cell_type": "markdown",
      "source": [
        "Now we want to find out which combination of rows adds up to this reducible representation. In this case, we might be able to do this simply by observation, but that's prone to errors and very difficult for larger character tables. Instead, we will apply the following formula to each row of the character table:\n",
        "\n",
        "$$n = \\frac{1}{h} ∑ \\chi_{R} \\chi_{I} N$$\n",
        "\n",
        "where\n",
        "\n",
        "\n",
        "*   n is the number of times a row appears in the reducible representation\n",
        "*   h is the order of the point group (sum of the numbers of symmetry elements)\n",
        "*   $\\chi_R$ is the value of the reducible representation\n",
        "*   $\\chi_R$ is the value of the row of the character table\n",
        "*   N is the number of symmetry operations in a column\n",
        "\n",
        "I have done this calculation for the first row of the character table in a very laborious way. Take a look and try improving the solution.\n",
        "\n",
        "<details><summary>Click to reveal a hint</summary>Use a for loop</details>"
      ],
      "metadata": {
        "id": "-dRqQh-LU11u"
      }
    },
    {
      "cell_type": "code",
      "source": [
        "h = d3h_operators[0] + d3h_operators[1] + d3h_operators[2] + d3h_operators[3] + d3h_operators[4] + d3h_operators[5]\n",
        "\n",
        "n1 = 1 / h * (reducible_repr[0] * d3h[0, 0] * d3h_operators[0] + \n",
        "              reducible_repr[1] * d3h[0, 1] * d3h_operators[1] + \n",
        "              reducible_repr[2] * d3h[0, 2] * d3h_operators[2] + \n",
        "              reducible_repr[3] * d3h[0, 3] * d3h_operators[3] + \n",
        "              reducible_repr[4] * d3h[0, 4] * d3h_operators[4] + \n",
        "              reducible_repr[5] * d3h[0, 5] * d3h_operators[5])\n",
        "\n",
        "print(n1)"
      ],
      "metadata": {
        "colab": {
          "base_uri": "https://localhost:8080/"
        },
        "id": "-IUcAq-iRrHJ",
        "outputId": "c90126d7-adc1-448b-e849-ff52fc1d2a33"
      },
      "execution_count": 9,
      "outputs": [
        {
          "output_type": "stream",
          "name": "stdout",
          "text": [
            "0.0\n"
          ]
        }
      ]
    },
    {
      "cell_type": "code",
      "source": [
        "# Add your improved solution here"
      ],
      "metadata": {
        "id": "B66dKr0LVkN8"
      },
      "execution_count": null,
      "outputs": []
    },
    {
      "cell_type": "markdown",
      "source": [
        "Now, do the same for all the other rows of the character table.\n",
        "\n",
        "Wait, that sounds very repetitive! Can you implement a way to minimize the amount of code you have to copy?\n",
        "\n",
        "<details><summary>Click for a hint</summary>You can use a for loop inside another for loop!</details>"
      ],
      "metadata": {
        "id": "lOoZmDn3VnLn"
      }
    },
    {
      "cell_type": "code",
      "source": [
        "# Solution"
      ],
      "metadata": {
        "id": "coqRXBqVWEaN"
      },
      "execution_count": null,
      "outputs": []
    },
    {
      "cell_type": "markdown",
      "source": [
        "Which orbitals correspond to your findings?\n",
        "\n",
        "<details><summary>Solution</summary>\n",
        "$p_z$, $d_{xz}$, $d_{yz}$<br><br>\n",
        "\n",
        "of course, the d orbitals are too high-energy to participate significantly, but these ones have the correct symmetry so they theoretically could! (in this molecule anyway)\n",
        "</details>\n",
        "\n",
        "Furthermore, the names of the rows correspond to the names of molecular orbitals that you see in MO diagrams! Which energy levels in the following levels can you now label?\n",
        "\n",
        "![image.png](data:image/png;base64,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)\n",
        "\n",
        "If you'd like to find out which atomic orbitals participate in $\\sigma$-bonding, the reducible representation for that is as follows:\n",
        "\n",
        "$$D_{3h}$$ |  $$E$$ | $$2C_3$$ | $$3C'_2$$ | $$\\sigma_h$$ |$$2S_3$$ | $$3\\sigma_v$$\n",
        " --- | --- | --- | --- | --- | --- | --- \n",
        " $$\\Gamma$$ | 3 | 0 | 1 | 3 | 0 | 1"
      ],
      "metadata": {
        "id": "CBRhVI2tWFr6"
      }
    },
    {
      "cell_type": "code",
      "source": [],
      "metadata": {
        "id": "tTP5IyffbTZZ"
      },
      "execution_count": null,
      "outputs": []
    },
    {
      "cell_type": "markdown",
      "source": [
        "### Something to do\n",
        "\n",
        "You will soon learn how to write functions, which allow you to permorm a task without having to copy chunks of code. Write a function that takes _any_ character table (so a 2D array containing the data inside, like the variable `d3h`, and a 1D array with the number of operations, like the variable `d3h_operators`) and a reducible representation and returns an array containg the number of times each row of the character table appears in the reducible representation."
      ],
      "metadata": {
        "id": "NfCpjK0hc8VQ"
      }
    },
    {
      "cell_type": "code",
      "source": [],
      "metadata": {
        "id": "P90gNeppeAgI"
      },
      "execution_count": null,
      "outputs": []
    },
    {
      "cell_type": "markdown",
      "source": [
        "## Electronic excitations\n",
        "\n",
        "You are probably aware that light can excite electrons in molecules from one of the occupied molecular orbitals into one of the unoccupied molecular orbitals, which is what is observed through UV-Vis spectroscopy. What you might not know, however, is that we can predict whether a specific transition will be observed almost entirely with symmetry!\n",
        "\n",
        "In this case, we will take a look at benzene, which has the $D_{6h}$ point group:\n",
        "\n",
        " &nbsp; | $E$ | $2C_6$ | $2C_3$ | $C_2$ | $3C'_2$ | $3C''_2$ | $i$ |$2S_3$ | $2S_6$ | $\\sigma_h$ | $3\\sigma_d$ | $3\\sigma_v$ | linear | quadratic | cubic\n",
        " --- | --- | --- | --- | --- | --- | --- | --- | --- | --- | --- | --- | --- | --- | --- | --- \n",
        "$A_{1g}$ | 1 | 1 | 1 | 1 | 1 | 1 | 1 | 1 | 1 | 1 | 1 | 1 |  | $x^2+y^2$, $z^2$ | \n",
        "$A_{2g}$ | 1 | 1 | 1 | 1 | -1 | -1 | 1 | 1 | 1 | 1 | -1 | -1 | $R_z$\n",
        "$B_{1g}$ | 1 | -1 | 1 | -1 | 1 | -1 | 1 | -1 | 1 | -1 | 1 | -1 |\n",
        "$B_{2g}$ | 1 | -1 | 1 | -1 | -1 | 1 | 1 | -1 | 1 | -1 | -1 | 1 |\n",
        "$E_{1g}$ | 2 | 1 | -1 | -2 | 0 | 0 | 2 | 1 | -1 | -2 | 0 | 0 | ($R_x$, $R_y$) | ($xz$, $yz$)\n",
        "$E_{2g}$ | 2 | -1 | -1 | 2 | 0 | 0 | 2 | -1 | -1 | 2 | 0 | 0 |  | ($x^2-y^2$, $xy$)\n",
        "$A_{1u}$ | 1 | 1 | 1 | 1 | 1 | 1 | -1 | -1 | -1 | -1 | -1 | -1 |\n",
        "$A_{2u}$ | 1 | 1 | 1 | 1 | -1 | -1 | -1 | -1 | -1 | -1 | 1 | 1 | z |  | $z^3$, $z(x^2+y^2)$\n",
        "$B_{1u}$ | 1 | -1 | 1 | -1 | 1 | -1 | -1 | 1 | -1 | 1 | -1 | 1 |  |  | $x(x^2-3y^2$\n",
        "$B_{2u}$ | 1 | -1 | 1 | -1 | -1 | 1 | -1 | 1 | -1 | 1 | 1 | -1 |  |  | $y(3x^2-y^2)$\n",
        "$E_{1u}$ | 2 | 1 | -1 | -2 | 0 | 0 | -2 | -1 | 1 | 2 | 0 | 0 | ($x$, $y$) |  | ($xz^2$, $yz^2$), [$x(x^2+y^2)$, $y(x^2+y^2)$]\n",
        "$E_{2u}$ | 2 | -1 | -1 | 2 | 0 | 0 | -2 | 1 | 1 | -2 | 0 | 0 |  |  | [$xyz$, $z(x^2-y^2)$]\n",
        "\n",
        "First, prepare this data into a format we can use in the code: create an 2D array of the data inside the character table and a 1D array of the values in the top row (the numbers in front of symmetry operations). Take a look how it was done in the previous part if you need a hint.\n"
      ],
      "metadata": {
        "id": "6DBEhV3heBCb"
      }
    },
    {
      "cell_type": "code",
      "source": [],
      "metadata": {
        "id": "T5HsRC0LmWHe"
      },
      "execution_count": null,
      "outputs": []
    },
    {
      "cell_type": "markdown",
      "source": [
        "Before we can start looking at electronic transitions, we need to know the symmetry labels of the $\\pi$ molecular orbitals. Use the reducible representation below to determine these.\n",
        "\n",
        "&nbsp; | $E$ | $2C_6$ | $2C_3$ | $C_2$ | $3C'_2$ | $3C''_2$ | $i$ |$2S_3$ | $2S_6$ | $\\sigma_h$ | $3\\sigma_d$ | $3\\sigma_v$\n",
        " --- | --- | --- | --- | --- | --- | --- | --- | --- | --- | --- | --- | --- \n",
        " $\\Gamma$ | 6 | 0 | 0 | 0 | -2 |  0 | 0 | 0 | 0 | -6 | 0 | 2\n",
        "\n",
        "\n"
      ],
      "metadata": {
        "id": "1mdoPkSBLgHn"
      }
    },
    {
      "cell_type": "code",
      "source": [],
      "metadata": {
        "id": "7WRrmWlqoMKy"
      },
      "execution_count": null,
      "outputs": []
    },
    {
      "cell_type": "markdown",
      "source": [
        "Unfortunately, we can't use symmetry to determine which of these labels corresponds to which energy level; we would need to do an energy calculation for that. Here's the energy level diagram:\n",
        "\n",
        "\n",
        "\n",
        "We will focus on the first electronic transition, that is from the ground-state highest occupied molecular orbital to the lowest unoccupied molecular orbital. First, we need to find the symmetry of this excited state. We can do that by multiplying the following rows of the character table\n",
        "\n",
        "$$A_{1g} × E_{1g} × E_{2u}$$"
      ],
      "metadata": {
        "id": "debVTv4uoM26"
      }
    },
    {
      "cell_type": "code",
      "source": [],
      "metadata": {
        "id": "4VDltshxwY3f"
      },
      "execution_count": null,
      "outputs": []
    },
    {
      "cell_type": "markdown",
      "source": [
        "Now, check whether the result you obtained is identical to any of the rows of the character table (try using code!). If it isn't, apply the reduction formula as in the previous part."
      ],
      "metadata": {
        "id": "4wX8TMVtwZ7b"
      }
    },
    {
      "cell_type": "code",
      "source": [],
      "metadata": {
        "id": "iqZKK8vQwqXz"
      },
      "execution_count": null,
      "outputs": []
    },
    {
      "cell_type": "markdown",
      "source": [
        "Does any part of your result correspond to x, y, or z in the character table? If yes, then that transition is optically allowed, and so will appear as a strong band in a UV-Vis spectrum!\n",
        "\n",
        "Now repeat this process for the next three electronic transitions, which have the rows that need to be multiplied as follows:\n",
        "\n",
        "$$A_{1g} × E_{1g} × B_{2g}$$\n",
        "$$A_{1g} × A_{2u} × E_{2u}$$\n",
        "$$A_{1g} × A_{2u} × B_{2g}$$"
      ],
      "metadata": {
        "id": "ioRALPuXwqrm"
      }
    },
    {
      "cell_type": "code",
      "source": [],
      "metadata": {
        "id": "6JatelMKyTmC"
      },
      "execution_count": null,
      "outputs": []
    },
    {
      "cell_type": "markdown",
      "source": [
        "Is any of these transitions optically allowed?\n",
        "\n",
        "Now we have predicted the UV-Vis spectrum of benzene. However, there is one issue: the actual spectrum has 4 bands. This difference is caused by transitions that are simultaneously electronic and vibrational (so-called vibronic transitions). To do that, you will first need to determine the symmetries of the vibrations, which can be done by reducing this reducible representation\n",
        "\n",
        "&nbsp; | $E$ | $2C_6(z)$ | $2C_3$ | $C_2$ | $3C'_2$ | $3C''_2$ | $i$ |$2S_3$ | $2S_6$ | $\\sigma_h$ | $3\\sigma_d$ | $3\\sigma_v$\n",
        " --- | --- | --- | --- | --- | --- | --- | --- | --- | --- | --- | --- | --- \n",
        " $\\Gamma$ | 36 | 0 | 0 | 0 | -4 |  0 | 0 | 0 | 0 | 12 | 0 | 12\n",
        "\n",
        " and then subtract $(A_{2g} + E_{1g} + A_{2u} + E_{1u})$ from your result.\n",
        "\n",
        " Then, you will need to do the below row multiplications on the rows corresponding to each transition you have calculated. If at least one of the two multiplication results in a symmetry label (i.e. row) that is the same as one of the vibrations, then that transition is vibronically allowed.\n",
        "\n",
        "$$A_{2u} × \\Gamma$$\n",
        "$$E_{1u} × \\Gamma$$\n",
        "\n",
        "where $\\Gamma$ is a row corresponding to the symmetry label of an excited state."
      ],
      "metadata": {
        "id": "FmxQ5MvCyUD3"
      }
    },
    {
      "cell_type": "code",
      "source": [],
      "metadata": {
        "id": "PrwHZlv24e-d"
      },
      "execution_count": null,
      "outputs": []
    },
    {
      "cell_type": "markdown",
      "source": [
        "### Something to do\n",
        "\n",
        "Once you know how to write functions, write a function that takes as arguments any character table (so a 2D array containing the data inside, like the variable d3h, and a 1D array with the number of operations, like the variable d3h_operators) and two values representing the indices (and thus rows) of that character table, and then returns the row(s) of the character table that correspond to the multiplication of the two rows."
      ],
      "metadata": {
        "id": "Ai5EhpAT4fb2"
      }
    },
    {
      "cell_type": "code",
      "source": [],
      "metadata": {
        "id": "qWkKRrcl5FTh"
      },
      "execution_count": null,
      "outputs": []
    },
    {
      "cell_type": "markdown",
      "source": [
        "# Diffraction analysis\n",
        "\n",
        "Crystals can adopt a variety of structures, depending on its chemical composition, and the temperature and pressure. Further, the properties of crystalline compounds often depend on its structure, i.e. the unit cell, which makes it important for us chemists to be able determine their structures. One way to do this is with diffraction (such as X-Ray or neutron diffraction). \n",
        "\n",
        "In this excercise, we will go through the steps of turning the data obtained from such diffraction into useful information about the unit cell (which is called indexing) without going into the details of why we are doing what we are doing (you'll learn all about that in Y2).\n",
        "\n",
        "First, we will use the Bragg equation (below) to turn diffraction angles in degrees into distances in angstrom.\n",
        "\n",
        "$$2d sin\\theta = λ$$\n",
        "*   d is the distance\n",
        "*   $\\theta$ is \n",
        "*   $\\lambda$ is the wavelength of the particle used in the diffraction\n",
        "\n",
        "You need to be careful about three things when doing this:\n",
        "*   The diffraction data is provided as $2\\theta$, so you need to divide it by 2 to get the real angle\n",
        "*   `np.sin()` function takes degrees in radians, so you need to do a unit conversion (have a look on the internet for functions that can do this for you)\n",
        "*   The wavelength provided is in the units of nm, but we want the $d$ to be in units of A"
      ],
      "metadata": {
        "id": "LxjPJEibGqp_"
      }
    },
    {
      "cell_type": "code",
      "source": [
        "diffraction_data = [27.46,   39.22,   48.54,   56.68,   64.10,   71.09,   84.33]\n",
        "lamda = 1.5418"
      ],
      "metadata": {
        "id": "8Se28bM0VABX"
      },
      "execution_count": null,
      "outputs": []
    },
    {
      "cell_type": "markdown",
      "source": [
        "Now, we need to turn the $d$ values into  $\\frac{1}{d^2}$ values. Afterwards, divide all the values by the smalles value."
      ],
      "metadata": {
        "id": "r6g0Hvl2VX2u"
      }
    },
    {
      "cell_type": "code",
      "source": [],
      "metadata": {
        "id": "uRFMy2G7V0bp"
      },
      "execution_count": null,
      "outputs": []
    },
    {
      "cell_type": "markdown",
      "source": [
        "If all your values are approximately whole numbers, you have your $h^2+k^2+l^2$ values. This already tells us that the unit cell is cubic, but to get more information, we will need to identify the separate values of h, k, and l. To do that, a knowledge of how Miller planes work is required, so I have written a function that takes a single $h^2+k^2+l^2$ and returns an array which looks like this: [h, k, l]. Use it to calculate the h,k,l values corresponding to each of the diffraction angles."
      ],
      "metadata": {
        "id": "ZLB0wcA_WHzs"
      }
    },
    {
      "cell_type": "code",
      "source": [
        "def hkl(const):\n",
        "    const = np.round(const)\n",
        "    for h in range(51):\n",
        "        if h ** 2 > const:\n",
        "            raise ValueError('h^2 > const; couldn\\'t find an appropriate Miller plane')\n",
        "        \n",
        "        for k in range(51):\n",
        "            \n",
        "            if k ** 2 > const:\n",
        "                break\n",
        "            \n",
        "            l = np.sqrt(const - h ** 2 - k ** 2)\n",
        "            \n",
        "            if l % 1 == 0:\n",
        "                \n",
        "                temp = [h, k, int(l)]\n",
        "                temp.sort(reverse=True)\n",
        "                \n",
        "                return np.array(temp)\n",
        "\n",
        "# Don't worry about how the function works, just use like any other function:\n",
        "print(hkl(9))"
      ],
      "metadata": {
        "colab": {
          "base_uri": "https://localhost:8080/"
        },
        "id": "v_n1nduHcCdl",
        "outputId": "71e4ccbe-63f9-4763-9d82-3e4c49505e77"
      },
      "execution_count": 2,
      "outputs": [
        {
          "output_type": "stream",
          "name": "stdout",
          "text": [
            "[3 0 0]\n"
          ]
        }
      ]
    },
    {
      "cell_type": "code",
      "source": [],
      "metadata": {
        "id": "7C52whttcbq3"
      },
      "execution_count": null,
      "outputs": []
    },
    {
      "cell_type": "markdown",
      "source": [
        "Now that we have our h,k,l values, we can determine whether the unit cell is primitive, face-centered, or body-centered. First, we will check whether the unit cell is face-centered. A unit cell is face-centered if the h,k,l values corresponding to each of the diffraction angles are all odd or all even.\n",
        "\n",
        "For example, if our hkl values are `[[1, 1, 1], [2, 0, 0], [2, 2, 0]]`, then the unit cell is face-centered since the h,k,l values corresponding to the first angle are all odd and for the second and third angles they are all even. There are no angle for which this is not true.\n",
        "\n",
        "Values of `[[1, 1, 1], [2, 0, 0], [2, 1, 0]]`, on the other hand, are not face-centered since the values corresponding to the third angle are neither all odd nor all even."
      ],
      "metadata": {
        "id": "aTHgvmq6ccII"
      }
    },
    {
      "cell_type": "code",
      "source": [],
      "metadata": {
        "id": "iz0LlIcveYsP"
      },
      "execution_count": null,
      "outputs": []
    },
    {
      "cell_type": "markdown",
      "source": [
        "Now write code that checks whether the unit cell is body-centered. A unit cell is body-centered if the sum $h+k+l$ is always even for all angles."
      ],
      "metadata": {
        "id": "yEUPmgdWeZPx"
      }
    },
    {
      "cell_type": "code",
      "source": [],
      "metadata": {
        "id": "TAItTyUqevDW"
      },
      "execution_count": null,
      "outputs": []
    },
    {
      "cell_type": "markdown",
      "source": [
        "If the unit cell is neither face-centered nor body-centered, we will consider it to be primitive. In reality, the condition is different (that all possible h,k,l values are present), but if we assume that our data is never defective, the result is the same, and this is much easier (we don't have to do anything after all!).\n",
        "\n"
      ],
      "metadata": {
        "id": "P0t4hf4AevcD"
      }
    },
    {
      "cell_type": "markdown",
      "source": [
        "Lastly, there is one more thing we can learn about the structure from this data; the unit cell length. However, we need to plot and fit the data for that, so I've prepared a function that does that. It takes the $\\frac{1}{d^2}$ and the $h^2+k^2+l^2$ values we calculated earlier and returns $\\frac{1}{a^2}$, where a is the unit cell length. Use the function and calculate $a$."
      ],
      "metadata": {
        "id": "U9ENDE8sgOrR"
      }
    },
    {
      "cell_type": "code",
      "source": [
        "def plot_data(one_over_d_squared, hkl_squared):\n",
        "    from numpy.polynomial import Polynomial as P\n",
        "    from numpy.polynomial.polynomial import polyfit\n",
        "    import matplotlib.pyplot as plt\n",
        "\n",
        "    hkl_squared = np.round(hkl_squared)\n",
        "    \n",
        "    a = polyfit(hkl_squared, one_over_d_squared, 1)[1]\n",
        "    \n",
        "    bestfit = P.fit(hkl_squared, one_over_d_squared, 1)\n",
        "    x, y = bestfit.linspace(domain=[0, bestfit.domain[1]])\n",
        "    \n",
        "    fig, ax = plt.subplots(figsize=(6, 6))\n",
        "    \n",
        "    ax.scatter(hkl_squared, one_over_d_squared, label='actual data')\n",
        "    ax.plot(x, y, label='line of best fit')\n",
        "    \n",
        "    ax.set_xlim(0)\n",
        "    ax.set_ylim(0)\n",
        "    \n",
        "    ax.set_xlabel(r'$h^{2}$ +' + r' $k^{2}$ +' + r' $l^{2}$', fontsize=15)\n",
        "    ax.set_ylabel(r'$\\frac{1}{d^{2}}$  /$\\frac{1}{Å^2}$', fontsize=15)\n",
        "    \n",
        "    plt.legend(fontsize=15)\n",
        "    \n",
        "    plt.show()\n",
        "    \n",
        "    return a"
      ],
      "metadata": {
        "id": "rxUSw_QPhcBX"
      },
      "execution_count": null,
      "outputs": []
    },
    {
      "cell_type": "code",
      "source": [],
      "metadata": {
        "id": "mWe8rfQvhsah"
      },
      "execution_count": null,
      "outputs": []
    },
    {
      "cell_type": "markdown",
      "source": [
        "Now repeat the process with the following data. However, this time when you divide $\\frac{1}{d^2}$ values by the smallest one, you will get values that are not whole numbers. You will need to find a number that you can multiply all the values by, upon which will all the results will be approximately whole numbers (within 0.03). Try writing code to do this!"
      ],
      "metadata": {
        "id": "MrBJsEcFh6mi"
      }
    },
    {
      "cell_type": "code",
      "source": [
        "new_diffraction_data = [20.860,   24.132,   34.390,   40.565,   42.454,   49.426,   54.205]\n",
        "new_lambda = 1.540"
      ],
      "metadata": {
        "id": "hoSKo0IXiVcA"
      },
      "execution_count": null,
      "outputs": []
    },
    {
      "cell_type": "markdown",
      "source": [
        "### Something to do\n",
        "\n",
        "Once you know how to write your own functions, try writing one that will do the entire process for you. That way, you can simply call the function each time you have new dataset.\n",
        "\n",
        "### Something more to do\n",
        "\n",
        "Try writing a code that goes the opposite way, that is takes a 2D array of h,k,l values, a cell parameter, and wavelength and generates 2Θ diffraction angles. You will need this equation:\n",
        "\n",
        "$$\\frac{1}{d^2} = \\frac{h^2+k^2+l^2}{a^2}$$\n",
        "\n",
        "Even further, you can modify this code to be able to predict the diffraction angles for a tetragonal unit cell given an extra cell parameter. You will need this equation:\n",
        "\n",
        "$$\\frac{1}{d^2} = \\frac{h^2+k^2}{a^2}+\\frac{l^2}{c^2}$$\n",
        "\n",
        "as well as this data\n",
        "\n",
        "```\n",
        "hkl = [[0, 0, 1], [1, 0, 0], [1, 0, 1], [0, 0, 2], [1, 1, 0], [1, 1, 1], [2, 0, 2]]\n",
        "a = 3.7732\n",
        "c = 5.5250\n",
        "lambda = 1.2\n",
        "```\n",
        "\n"
      ],
      "metadata": {
        "id": "Lj4am-QTjGEI"
      }
    },
    {
      "cell_type": "code",
      "source": [],
      "metadata": {
        "id": "A6Twj_2dnemo"
      },
      "execution_count": null,
      "outputs": []
    }
  ]
}